{
 "cells": [
  {
   "cell_type": "code",
   "execution_count": 1,
   "id": "b52cc62c",
   "metadata": {},
   "outputs": [
    {
     "name": "stderr",
     "output_type": "stream",
     "text": [
      "OpenCV: Couldn't read video stream from file \"videorenume.mov\"\n"
     ]
    },
    {
     "ename": "error",
     "evalue": "OpenCV(4.9.0) :-1: error: (-5:Bad argument) in function 'cvtColor'\n> Overload resolution failed:\n>  - src is not a numpy array, neither a scalar\n>  - Expected Ptr<cv::UMat> for argument 'src'\n",
     "output_type": "error",
     "traceback": [
      "\u001b[0;31m---------------------------------------------------------------------------\u001b[0m",
      "\u001b[0;31merror\u001b[0m                                     Traceback (most recent call last)",
      "\u001b[0;32m/var/folders/5w/d9ylxc2x30gggqgzmxv8y6440000gn/T/ipykernel_5320/3996096082.py\u001b[0m in \u001b[0;36m<module>\u001b[0;34m\u001b[0m\n\u001b[1;32m      6\u001b[0m \u001b[0;34m\u001b[0m\u001b[0m\n\u001b[1;32m      7\u001b[0m \u001b[0;31m# convert the image to grayscale\u001b[0m\u001b[0;34m\u001b[0m\u001b[0;34m\u001b[0m\u001b[0m\n\u001b[0;32m----> 8\u001b[0;31m \u001b[0mgray\u001b[0m \u001b[0;34m=\u001b[0m \u001b[0mcv2\u001b[0m\u001b[0;34m.\u001b[0m\u001b[0mcvtColor\u001b[0m\u001b[0;34m(\u001b[0m\u001b[0mimg\u001b[0m\u001b[0;34m,\u001b[0m \u001b[0mcv2\u001b[0m\u001b[0;34m.\u001b[0m\u001b[0mCOLOR_BGR2GRAY\u001b[0m\u001b[0;34m)\u001b[0m\u001b[0;34m\u001b[0m\u001b[0;34m\u001b[0m\u001b[0m\n\u001b[0m\u001b[1;32m      9\u001b[0m \u001b[0;34m\u001b[0m\u001b[0m\n\u001b[1;32m     10\u001b[0m \u001b[0;31m# read haar cascade for face detection\u001b[0m\u001b[0;34m\u001b[0m\u001b[0;34m\u001b[0m\u001b[0m\n",
      "\u001b[0;31merror\u001b[0m: OpenCV(4.9.0) :-1: error: (-5:Bad argument) in function 'cvtColor'\n> Overload resolution failed:\n>  - src is not a numpy array, neither a scalar\n>  - Expected Ptr<cv::UMat> for argument 'src'\n"
     ]
    }
   ],
   "source": [
    "# import required libraries\n",
    "import cv2\n",
    "\n",
    "# read input image\n",
    "img = cv2.VideoCapture(\"videorenume.mov\")\n",
    "\n",
    "# convert the image to grayscale\n",
    "gray = cv2.cvtColor(img, cv2.COLOR_BGR2GRAY)\n",
    "\n",
    "# read haar cascade for face detection\n",
    "face_cascade = cv2.CascadeClassifier(cv2.data.haarcascades+'haarcascades\\haarcascade_frontalface_default.xml')\n",
    "\n",
    "# read haar cascade for smile detection\n",
    "smile_cascade = cv2.CascadeClassifier(cv2.data.haarcascades+'haarcascades\\haarcascade_smile.xml')\n",
    "\n",
    "# Detects faces in the input image\n",
    "faces = face_cascade.detectMultiScale(gray, 1.3, 5)\n",
    "print('Number of detected faces:', len(faces))\n",
    "\n",
    "# loop over all the faces detected\n",
    "for (x,y,w,h) in faces:\n",
    "   \n",
    "   # draw a rectangle in a face\n",
    "   cv2.rectangle(img,(x,y),(x+w,y+h),(0,255,255),2)\n",
    "   cv2.putText(img, \"Face\", (x, y), cv2.FONT_HERSHEY_SIMPLEX, 1, (0, 255, 255), 2)\n",
    "   roi_gray = gray[y:y+h, x:x+w]\n",
    "   roi_color = img[y:y+h, x:x+w]\n",
    " \n",
    "   # detecting smile within the face roi\n",
    "   smiles = smile_cascade.detectMultiScale(roi_gray, 1.8, 20)\n",
    "   if len(smiles) > 0:\n",
    "      print(\"smile detected\")\n",
    "      for (sx, sy, sw, sh) in smiles:\n",
    "         cv2.rectangle(roi_color, (sx, sy), ((sx + sw), (sy + sh)), (0, 0, 255), 2)\n",
    "         cv2.putText(roi_color, \"smile\", (sx, sy),\n",
    "         cv2.FONT_HERSHEY_SIMPLEX, 1, (0, 0, 255), 2)\n",
    "   else:\n",
    "      print(\"smile not detected\")\n",
    "\n",
    "# Display an image in a window\n",
    "cv2.imshow('Smile Image',img)\n",
    "cv2.waitKey(0)\n",
    "cv2.destroyAllWindows()"
   ]
  },
  {
   "cell_type": "code",
   "execution_count": 1,
   "id": "7e7e3be9",
   "metadata": {},
   "outputs": [
    {
     "ename": "KeyboardInterrupt",
     "evalue": "",
     "output_type": "error",
     "traceback": [
      "\u001b[0;31m---------------------------------------------------------------------------\u001b[0m",
      "\u001b[0;31mKeyboardInterrupt\u001b[0m                         Traceback (most recent call last)",
      "\u001b[0;32m/var/folders/5w/d9ylxc2x30gggqgzmxv8y6440000gn/T/ipykernel_7400/3937300805.py\u001b[0m in \u001b[0;36m<module>\u001b[0;34m\u001b[0m\n\u001b[1;32m     17\u001b[0m \u001b[0;34m\u001b[0m\u001b[0m\n\u001b[1;32m     18\u001b[0m     \u001b[0mcv2\u001b[0m\u001b[0;34m.\u001b[0m\u001b[0mimshow\u001b[0m\u001b[0;34m(\u001b[0m\u001b[0;34m'gotcha'\u001b[0m\u001b[0;34m,\u001b[0m\u001b[0mframe\u001b[0m\u001b[0;34m)\u001b[0m\u001b[0;34m\u001b[0m\u001b[0;34m\u001b[0m\u001b[0m\n\u001b[0;32m---> 19\u001b[0;31m     \u001b[0mkey\u001b[0m\u001b[0;34m=\u001b[0m\u001b[0mcv2\u001b[0m\u001b[0;34m.\u001b[0m\u001b[0mwaitKey\u001b[0m\u001b[0;34m(\u001b[0m\u001b[0;36m1\u001b[0m\u001b[0;34m)\u001b[0m\u001b[0;34m\u001b[0m\u001b[0;34m\u001b[0m\u001b[0m\n\u001b[0m\u001b[1;32m     20\u001b[0m \u001b[0;34m\u001b[0m\u001b[0m\n\u001b[1;32m     21\u001b[0m     \u001b[0;32mif\u001b[0m \u001b[0mkey\u001b[0m\u001b[0;34m==\u001b[0m\u001b[0mord\u001b[0m\u001b[0;34m(\u001b[0m\u001b[0;34m'q'\u001b[0m\u001b[0;34m)\u001b[0m\u001b[0;34m:\u001b[0m\u001b[0;34m\u001b[0m\u001b[0;34m\u001b[0m\u001b[0m\n",
      "\u001b[0;31mKeyboardInterrupt\u001b[0m: "
     ]
    }
   ],
   "source": [
    "import cv2 ,time\n",
    "\n",
    "face_cascade=cv2.CascadeClassifier(cv2.data.haarcascades+\"haarcascade_frontalface_default.xml\")\n",
    "smile_cascade=cv2.CascadeClassifier(cv2.data.haarcascades+\"haarcascade_smile.xml\")\n",
    "\n",
    "video=cv2.VideoCapture(0)\n",
    "\n",
    "while True:\n",
    "    check,frame=video.read()\n",
    "    gray = cv2.cvtColor(frame,cv2.COLOR_BGR2GRAY)\n",
    "    face=face_cascade.detectMultiScale(gray,scaleFactor=1.8,minNeighbors=5)\n",
    "    for x,y,w,h in face:\n",
    "        img=cv2.rectangle(frame,(x,y),(x+w,y+h),(0,0,255),3)\n",
    "        smile=smile_cascade.detectMultiScale(gray,scaleFactor=1.8,minNeighbors=25)\n",
    "        for x,y,w,h in smile:\n",
    "            img=cv2.rectangle(frame,(x,y),(x+w,y+h),(255,0,0),3)\n",
    "\n",
    "    cv2.imshow('gotcha',frame)\n",
    "    key=cv2.waitKey(1)\n",
    "\n",
    "    if key==ord('q'):\n",
    "         break\n",
    "\n",
    "video.release()\n",
    "cv2.destroyAllWindows()       "
   ]
  },
  {
   "cell_type": "code",
   "execution_count": null,
   "id": "ff632221",
   "metadata": {},
   "outputs": [],
   "source": [
    "video_capture = cv2.VideoCapture(0) \n",
    "def detect(gray, frame): \n",
    "\tfaces = face_cascade.detectMultiScale(gray, 1.3, 5) \n",
    "\tfor (x, y, w, h) in faces: \n",
    "\t\tcv2.rectangle(frame, (x, y), ((x + w), (y + h)), (255, 0, 0), 2) \n",
    "\t\troi_gray = gray[y:y + h, x:x + w] \n",
    "\t\troi_color = frame[y:y + h, x:x + w] \n",
    "\t\tsmiles = smile_cascade.detectMultiScale(roi_gray, 1.8, 20) \n",
    "\n",
    "\t\tfor (sx, sy, sw, sh) in smiles: \n",
    "\t\t\tcv2.rectangle(roi_color, (sx, sy), ((sx + sw), (sy + sh)), (0, 0, 255), 2) \n",
    "\treturn frame \n",
    "while video_capture.isOpened(): \n",
    "   # Captures video_capture frame by frame \n",
    "    _, frame = video_capture.read()  \n",
    "  \n",
    "    # To capture image in monochrome                     \n",
    "    gray = cv2.cvtColor(frame, cv2.COLOR_BGR2GRAY)   \n",
    "      \n",
    "    # calls the detect() function     \n",
    "    canvas = detect(gray, frame)    \n",
    "  \n",
    "    # Displays the result on camera feed                      \n",
    "    cv2.imshow('Video', canvas)  \n",
    "  \n",
    "    # The control breaks once q key is pressed                         \n",
    "    if cv2.waitKey(1) & 0xff == ord('q'):                \n",
    "        break\n",
    "\n",
    "\n",
    "# Release the capture once all the processing is done. \n",
    "video_capture.release()                                  \n",
    "cv2.destroyAllWindows() "
   ]
  }
 ],
 "metadata": {
  "kernelspec": {
   "display_name": "Python 3 (ipykernel)",
   "language": "python",
   "name": "python3"
  },
  "language_info": {
   "codemirror_mode": {
    "name": "ipython",
    "version": 3
   },
   "file_extension": ".py",
   "mimetype": "text/x-python",
   "name": "python",
   "nbconvert_exporter": "python",
   "pygments_lexer": "ipython3",
   "version": "3.9.13"
  }
 },
 "nbformat": 4,
 "nbformat_minor": 5
}
